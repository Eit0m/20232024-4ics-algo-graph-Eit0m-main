{
 "cells": [
  {
   "cell_type": "markdown",
   "metadata": {},
   "source": [
    "# TP graphe à rendre\n",
    "\n",
    "On considère un graphe `G` d'ordre `n`. On réutilisera au maximum nos fonctions plutôt que les fonctions de networkx.\n",
    "On veillera à minimiser la complexité algorithmique des implémentations. Toutes les réflexions sur la complexités/le code peuvent être ajoutées en commentaire dans le code. Faites attention à vos structures de données. Dans le cas des parcours de graphes, on effectuera toujours le parcours dans l'ordre croissant. "
   ]
  },
  {
   "cell_type": "code",
   "execution_count": 18,
   "metadata": {},
   "outputs": [],
   "source": [
    "import networkx as nx\n",
    "import matplotlib.pyplot as plt"
   ]
  },
  {
   "cell_type": "markdown",
   "metadata": {},
   "source": [
    "## Mise en place des outils\n",
    "\n",
    "**Question** Implémenter une méthode `BFS` qui prend en entrée un graphe `G` et un sommet `s` et qui renvoie le tableau dans l'ordre de visite depuis `s` des éléments ainsi qu'un second tableau de taille `n` tel qu'à chaque indice `i`, on connaisse la distance entre `s` et `i`.\n",
    "\n"
   ]
  },
  {
   "cell_type": "code",
   "execution_count": 2,
   "metadata": {},
   "outputs": [],
   "source": [
    "from collections import deque\n",
    "\n",
    "def BFS(G, s):\n",
    "    n = len(G)\n",
    "    visited = [False] * n\n",
    "    distances = [-1] * n  # Initiate distances with -1 for unreachable vertices\n",
    "    order_of_visit = []\n",
    "    queue = deque()\n",
    "\n",
    "    queue.append(s)\n",
    "    visited[s] = True\n",
    "    distances[s] = 0\n",
    "\n",
    "    while queue:\n",
    "        u = queue.popleft()\n",
    "        order_of_visit.append(u)\n",
    "\n",
    "        for v in G[u]:\n",
    "            if not visited[v]:\n",
    "                queue.append(v)\n",
    "                visited[v] = True\n",
    "                distances[v] = distances[u] + 1\n",
    "\n",
    "    return order_of_visit, distances"
   ]
  },
  {
   "cell_type": "code",
   "execution_count": 3,
   "metadata": {},
   "outputs": [
    {
     "name": "stdout",
     "output_type": "stream",
     "text": [
      "L'ordre de visite depuis le sommet 0 est : [0, 1, 2, 3, 4, 5]\n",
      "Les distances depuis le sommet 0 sont : [0, 1, 1, 2, 2, 2]\n"
     ]
    }
   ],
   "source": [
    "# Place pour tester votre fonction\n",
    "graph = [\n",
    "    [1, 2],     # Adjacency list of vertex 0\n",
    "    [0, 3],     # Adjacency list of vertex 1\n",
    "    [0, 4, 5],  # Adjacency list of vertex 2\n",
    "    [1],        # Adjacency list of vertex 3\n",
    "    [2],        # Adjacency list of vertex 4\n",
    "    [2]         # Adjacency list of vertex 5\n",
    "]\n",
    "\n",
    "start_vertex = 0\n",
    "order, distances = BFS(graph, start_vertex)\n",
    "\n",
    "print(f\"L'ordre de visite depuis le sommet {start_vertex} est : {order}\")\n",
    "print(f\"Les distances depuis le sommet {start_vertex} sont : {distances}\")"
   ]
  },
  {
   "cell_type": "markdown",
   "metadata": {},
   "source": [
    "**Question** Implémenter une méthode `DFS` qui renvoie le tableau des éléments visités dans l'ordre de visite depuis un sommet `s`."
   ]
  },
  {
   "cell_type": "code",
   "execution_count": 10,
   "metadata": {},
   "outputs": [],
   "source": [
    "def DFS(G, s):\n",
    "    visited = set()\n",
    "    order_of_visit = []\n",
    "\n",
    "    def explore(v):\n",
    "        visited.add(v)\n",
    "        order_of_visit.append(v)\n",
    "        for neighbor in G[v]:\n",
    "            if neighbor not in visited:\n",
    "                explore(neighbor)\n",
    "\n",
    "    explore(s)\n",
    "    return order_of_visit"
   ]
  },
  {
   "cell_type": "code",
   "execution_count": 12,
   "metadata": {},
   "outputs": [
    {
     "name": "stdout",
     "output_type": "stream",
     "text": [
      "L'ordre de visite depuis le sommet 0 est : [0, 1, 3, 2, 4, 5]\n"
     ]
    }
   ],
   "source": [
    "# Place pour tester votre fonction\n",
    "graph = {\n",
    "    0: [1, 2],\n",
    "    1: [0, 3],\n",
    "    2: [0, 4, 5],\n",
    "    3: [1],\n",
    "    4: [2],\n",
    "    5: [2]\n",
    "}\n",
    "\n",
    "start_vertex = 0\n",
    "order = DFS(graph, start_vertex)\n",
    "\n",
    "print(f\"L'ordre de visite depuis le sommet {start_vertex} est : {order}\")"
   ]
  },
  {
   "cell_type": "markdown",
   "metadata": {},
   "source": [
    "**Question**  Implémenter une méthode `isConnected` qui permet de savoir si un graphe est connexe."
   ]
  },
  {
   "cell_type": "code",
   "execution_count": 13,
   "metadata": {},
   "outputs": [],
   "source": [
    "def isConnected(G):\n",
    "    n = len(G)\n",
    "    visited = [False] * n\n",
    "    queue = deque()\n",
    "\n",
    "    queue.append(0)\n",
    "    visited[0] = True\n",
    "\n",
    "    while queue:\n",
    "        u = queue.popleft()\n",
    "\n",
    "        for v in G[u]:\n",
    "            if not visited[v]:\n",
    "                queue.append(v)\n",
    "                visited[v] = True\n",
    "\n",
    "    return all(visited)"
   ]
  },
  {
   "cell_type": "code",
   "execution_count": 14,
   "metadata": {},
   "outputs": [
    {
     "name": "stdout",
     "output_type": "stream",
     "text": [
      "Le graphe est-il connexe ? True\n"
     ]
    }
   ],
   "source": [
    "# Place pour tester votre fonction\n",
    "\n",
    "graph = [\n",
    "    [1, 2],     # Adjacency list of vertex 0\n",
    "    [0, 3],     # Adjacency list of vertex 1\n",
    "    [0, 4, 5],  # Adjacency list of vertex 2\n",
    "    [1],        # Adjacency list of vertex 3\n",
    "    [2],        # Adjacency list of vertex 4\n",
    "    [2]         # Adjacency list of vertex 5\n",
    "]\n",
    "\n",
    "print(f\"Le graphe est-il connexe ? {isConnected(graph)}\")\n"
   ]
  },
  {
   "cell_type": "markdown",
   "metadata": {},
   "source": [
    "**Question** Créer une méthode `connectedComponent` qui renvoie une liste contenant les lists de toutes les composantes connexes. On veillera à ce que les listes des composantes connexes soit triées et que la listes contenants les listes soit triées par ordre du sommets le plus petit. "
   ]
  },
  {
   "cell_type": "code",
   "execution_count": 19,
   "metadata": {},
   "outputs": [
    {
     "data": {
      "image/png": "[encoded data removed]",
      "text/plain": [
       "<Figure size 640x480 with 1 Axes>"
      ]
     },
     "metadata": {},
     "output_type": "display_data"
    }
   ],
   "source": [
    "# Exemple \n",
    "G = nx.Graph([(0,3), (0, 4), (1, 2)])\n",
    "nx.draw(G, with_labels=True, font_weight='bold')\n",
    "plt.show()  \n",
    "answer = [[0, 3, 4],[1, 2]]"
   ]
  },
  {
   "cell_type": "code",
   "execution_count": 15,
   "metadata": {},
   "outputs": [],
   "source": [
    "def connectedComponent(G):\n",
    "    n = len(G)\n",
    "    visited = [False] * n\n",
    "    components = []\n",
    "\n",
    "    for u in range(n):\n",
    "        if not visited[u]:\n",
    "            component = []\n",
    "            queue = deque()\n",
    "            queue.append(u)\n",
    "            visited[u] = True\n",
    "\n",
    "            while queue:\n",
    "                v = queue.popleft()\n",
    "                component.append(v)\n",
    "\n",
    "                for w in G[v]:\n",
    "                    if not visited[w]:\n",
    "                        queue.append(w)\n",
    "                        visited[w] = True\n",
    "\n",
    "            components.append(component)\n",
    "\n",
    "    return components"
   ]
  },
  {
   "cell_type": "code",
   "execution_count": 16,
   "metadata": {},
   "outputs": [
    {
     "name": "stdout",
     "output_type": "stream",
     "text": [
      "Les composantes connexes du graphe sont : [[0, 1, 2, 3, 4, 5]]\n"
     ]
    }
   ],
   "source": [
    "# Place pour tester votre fonction\n",
    "\n",
    "graph = [\n",
    "    [1, 2],     # Adjacency list of vertex 0\n",
    "    [0, 3],     # Adjacency list of vertex 1\n",
    "    [0, 4, 5],  # Adjacency list of vertex 2\n",
    "    [1],        # Adjacency list of vertex 3\n",
    "    [2],        # Adjacency list of vertex 4\n",
    "    [2]         # Adjacency list of vertex 5\n",
    "]\n",
    "\n",
    "print(f\"Les composantes connexes du graphe sont : {connectedComponent(graph)}\")\n"
   ]
  },
  {
   "cell_type": "markdown",
   "metadata": {},
   "source": [
    "**Question**  Sans utiliser les méthodes de networkx dédiées, implémenter une méthode  `hasCycle` qui permet de savoir si il existe un cycle dans le graphe"
   ]
  },
  {
   "cell_type": "code",
   "execution_count": 20,
   "metadata": {},
   "outputs": [],
   "source": [
    "def hasCycle(G):\n",
    "    n = len(G)\n",
    "    visited = [False] * n\n",
    "    parent = [None] * n\n",
    "\n",
    "    def explore(v):\n",
    "        visited[v] = True\n",
    "\n",
    "        for neighbor in G[v]:\n",
    "            if not visited[neighbor]:\n",
    "                parent[neighbor] = v\n",
    "                explore(neighbor)\n",
    "            elif parent[v] != neighbor:\n",
    "                return True\n",
    "\n",
    "        return False\n",
    "\n",
    "    for u in range(n):\n",
    "        if not visited[u] and explore(u):\n",
    "            return True\n",
    "\n",
    "    return False"
   ]
  },
  {
   "cell_type": "code",
   "execution_count": 21,
   "metadata": {},
   "outputs": [
    {
     "name": "stdout",
     "output_type": "stream",
     "text": [
      "Le graphe contient-il un cycle ? False\n"
     ]
    }
   ],
   "source": [
    "# Place pour tester votre fonction\n",
    "\n",
    "graph = [\n",
    "    [1, 2],     # Adjacency list of vertex 0\n",
    "    [0, 3],     # Adjacency list of vertex 1\n",
    "    [0, 4, 5],  # Adjacency list of vertex 2\n",
    "    [1],        # Adjacency list of vertex 3\n",
    "    [2],        # Adjacency list of vertex 4\n",
    "    [2]         # Adjacency list of vertex 5\n",
    "]\n",
    "\n",
    "print(f\"Le graphe contient-il un cycle ? {hasCycle(graph)}\")\n"
   ]
  },
  {
   "cell_type": "markdown",
   "metadata": {},
   "source": [
    "**Question** Implémenter l'algorithme de `Kruskal` qui renvoie la liste des arêtes d'un arbre couvrant de poids minimum sous forme d'un tableau de tuple."
   ]
  },
  {
   "cell_type": "code",
   "execution_count": 25,
   "metadata": {},
   "outputs": [],
   "source": [
    "def Kruskal(G):\n",
    "    n = len(G)\n",
    "    edges = []\n",
    "    for u in range(n):\n",
    "        for v in G[u]:\n",
    "            edges.append((u, v))\n",
    "\n",
    "    edges.sort(key=lambda edge: G[edge[0]][edge[1]])\n",
    "\n",
    "    parent = list(range(n))\n",
    "    rank = [0] * n\n",
    "\n",
    "    def find(u):\n",
    "        if parent[u] != u:\n",
    "            parent[u] = find(parent[u])\n",
    "        return parent[u]\n",
    "\n",
    "    def union(u, v):\n",
    "        u_root = find(u)\n",
    "        v_root = find(v)\n",
    "\n",
    "        if u_root == v_root:\n",
    "            return False\n",
    "\n",
    "        if rank[u_root] > rank[v_root]:\n",
    "            parent[v_root] = u_root\n",
    "        elif rank[u_root] < rank[v_root]:\n",
    "            parent[u_root] = v_root\n",
    "        else:\n",
    "            parent[v_root] = u_root\n",
    "            rank[u_root] += 1\n",
    "\n",
    "        return True\n",
    "\n",
    "    mst = []\n",
    "    for edge in edges:\n",
    "        u, v = edge\n",
    "        if union(u, v):\n",
    "            mst.append(edge)\n",
    "\n",
    "    return mst\n",
    "    \n"
   ]
  },
  {
   "cell_type": "code",
   "execution_count": 24,
   "metadata": {},
   "outputs": [
    {
     "ename": "TypeError",
     "evalue": "cannot unpack non-iterable int object",
     "output_type": "error",
     "traceback": [
      "\u001b[1;31m---------------------------------------------------------------------------\u001b[0m",
      "\u001b[1;31mTypeError\u001b[0m                                 Traceback (most recent call last)",
      "\u001b[1;32mc:\\Users\\thoma\\Documents\\Ecole ingenieur 3A\\TP TD\\algo avancé\\20232024-4ics-algo-graph-Eit0m-main\\rendu.ipynb Cell 21\u001b[0m line \u001b[0;36m1\n\u001b[0;32m      <a href='vscode-notebook-cell:/c%3A/Users/thoma/Documents/Ecole%20ingenieur%203A/TP%20TD/algo%20avanc%C3%A9/20232024-4ics-algo-graph-Eit0m-main/rendu.ipynb#X26sZmlsZQ%3D%3D?line=0'>1</a>\u001b[0m \u001b[39m# Place pour tester votre fonction\u001b[39;00m\n\u001b[0;32m      <a href='vscode-notebook-cell:/c%3A/Users/thoma/Documents/Ecole%20ingenieur%203A/TP%20TD/algo%20avanc%C3%A9/20232024-4ics-algo-graph-Eit0m-main/rendu.ipynb#X26sZmlsZQ%3D%3D?line=2'>3</a>\u001b[0m graph \u001b[39m=\u001b[39m [\n\u001b[0;32m      <a href='vscode-notebook-cell:/c%3A/Users/thoma/Documents/Ecole%20ingenieur%203A/TP%20TD/algo%20avanc%C3%A9/20232024-4ics-algo-graph-Eit0m-main/rendu.ipynb#X26sZmlsZQ%3D%3D?line=3'>4</a>\u001b[0m     [\u001b[39m1\u001b[39m, \u001b[39m2\u001b[39m],     \u001b[39m# Adjacency list of vertex 0\u001b[39;00m\n\u001b[0;32m      <a href='vscode-notebook-cell:/c%3A/Users/thoma/Documents/Ecole%20ingenieur%203A/TP%20TD/algo%20avanc%C3%A9/20232024-4ics-algo-graph-Eit0m-main/rendu.ipynb#X26sZmlsZQ%3D%3D?line=4'>5</a>\u001b[0m     [\u001b[39m0\u001b[39m, \u001b[39m3\u001b[39m],     \u001b[39m# Adjacency list of vertex 1\u001b[39;00m\n\u001b[1;32m   (...)\u001b[0m\n\u001b[0;32m      <a href='vscode-notebook-cell:/c%3A/Users/thoma/Documents/Ecole%20ingenieur%203A/TP%20TD/algo%20avanc%C3%A9/20232024-4ics-algo-graph-Eit0m-main/rendu.ipynb#X26sZmlsZQ%3D%3D?line=8'>9</a>\u001b[0m     [\u001b[39m2\u001b[39m]         \u001b[39m# Adjacency list of vertex 5\u001b[39;00m\n\u001b[0;32m     <a href='vscode-notebook-cell:/c%3A/Users/thoma/Documents/Ecole%20ingenieur%203A/TP%20TD/algo%20avanc%C3%A9/20232024-4ics-algo-graph-Eit0m-main/rendu.ipynb#X26sZmlsZQ%3D%3D?line=9'>10</a>\u001b[0m ]\n\u001b[1;32m---> <a href='vscode-notebook-cell:/c%3A/Users/thoma/Documents/Ecole%20ingenieur%203A/TP%20TD/algo%20avanc%C3%A9/20232024-4ics-algo-graph-Eit0m-main/rendu.ipynb#X26sZmlsZQ%3D%3D?line=11'>12</a>\u001b[0m \u001b[39mprint\u001b[39m(\u001b[39mf\u001b[39m\u001b[39m\"\u001b[39m\u001b[39mL\u001b[39m\u001b[39m'\u001b[39m\u001b[39marbre couvrant de poids minimal du graphe est : \u001b[39m\u001b[39m{\u001b[39;00mKruskal(graph)\u001b[39m}\u001b[39;00m\u001b[39m\"\u001b[39m)\n",
      "\u001b[1;32mc:\\Users\\thoma\\Documents\\Ecole ingenieur 3A\\TP TD\\algo avancé\\20232024-4ics-algo-graph-Eit0m-main\\rendu.ipynb Cell 21\u001b[0m line \u001b[0;36m2\n\u001b[0;32m     <a href='vscode-notebook-cell:/c%3A/Users/thoma/Documents/Ecole%20ingenieur%203A/TP%20TD/algo%20avanc%C3%A9/20232024-4ics-algo-graph-Eit0m-main/rendu.ipynb#X26sZmlsZQ%3D%3D?line=24'>25</a>\u001b[0m edges \u001b[39m=\u001b[39m []\n\u001b[0;32m     <a href='vscode-notebook-cell:/c%3A/Users/thoma/Documents/Ecole%20ingenieur%203A/TP%20TD/algo%20avanc%C3%A9/20232024-4ics-algo-graph-Eit0m-main/rendu.ipynb#X26sZmlsZQ%3D%3D?line=26'>27</a>\u001b[0m \u001b[39mfor\u001b[39;00m u \u001b[39min\u001b[39;00m \u001b[39mrange\u001b[39m(n):\n\u001b[1;32m---> <a href='vscode-notebook-cell:/c%3A/Users/thoma/Documents/Ecole%20ingenieur%203A/TP%20TD/algo%20avanc%C3%A9/20232024-4ics-algo-graph-Eit0m-main/rendu.ipynb#X26sZmlsZQ%3D%3D?line=27'>28</a>\u001b[0m     \u001b[39mfor\u001b[39;00m v, w \u001b[39min\u001b[39;00m G[u]:\n\u001b[0;32m     <a href='vscode-notebook-cell:/c%3A/Users/thoma/Documents/Ecole%20ingenieur%203A/TP%20TD/algo%20avanc%C3%A9/20232024-4ics-algo-graph-Eit0m-main/rendu.ipynb#X26sZmlsZQ%3D%3D?line=28'>29</a>\u001b[0m         edges\u001b[39m.\u001b[39mappend((w, u, v))\n\u001b[0;32m     <a href='vscode-notebook-cell:/c%3A/Users/thoma/Documents/Ecole%20ingenieur%203A/TP%20TD/algo%20avanc%C3%A9/20232024-4ics-algo-graph-Eit0m-main/rendu.ipynb#X26sZmlsZQ%3D%3D?line=30'>31</a>\u001b[0m edges\u001b[39m.\u001b[39msort()\n",
      "\u001b[1;31mTypeError\u001b[0m: cannot unpack non-iterable int object"
     ]
    }
   ],
   "source": [
    "# Place pour tester votre fonction\n",
    "\n",
    "\n",
    "\n"
   ]
  },
  {
   "cell_type": "markdown",
   "metadata": {},
   "source": [
    "**Question** Implémenter l'algorithme de `Dijkstra` qui renvoie la liste des nœuds traversés lors du plus cours chemin entre `e` et `s` en intégrant `e` et `s`."
   ]
  },
  {
   "cell_type": "code",
   "execution_count": null,
   "metadata": {},
   "outputs": [],
   "source": [
    "def Dijkstra(G, e, s):\n",
    "    pass"
   ]
  },
  {
   "cell_type": "code",
   "execution_count": null,
   "metadata": {},
   "outputs": [],
   "source": [
    "# Place pour tester votre fonction"
   ]
  },
  {
   "cell_type": "markdown",
   "metadata": {},
   "source": [
    "## Pratique\n",
    "\n",
    "On souhaite maintenant utiliser les outils précédents dans un cas concret. Pour cela, on va utiliser la librairie [OSMnx](https://osmnx.readthedocs.io/en/stable/) qui permet de faire un lien entre [NetworkX](https://networkx.org) et [OpenStreetMap](https://www.openstreetmap.org).\n",
    "\n",
    "On peut par example charger un graphe de la ville de Lyon et l'afficher."
   ]
  },
  {
   "cell_type": "code",
   "execution_count": null,
   "metadata": {},
   "outputs": [],
   "source": [
    "import osmnx as ox\n",
    "import sklearn\n",
    "\n",
    "G = ox.graph_from_place(\"Lyon, France\", network_type=\"drive\")\n",
    "ox.graph_to_gdfs(G, nodes=False).explore()"
   ]
  },
  {
   "cell_type": "markdown",
   "metadata": {},
   "source": [
    "On peut aussi récupérer le nœud le plus proche d'un point. Pour trouver la position on peut regarder l'[url](https://www.openstreetmap.org/#map=19/45.75784/4.83220) et regarder le [nœud](https://www.openstreetmap.org/node/4367136876)"
   ]
  },
  {
   "cell_type": "code",
   "execution_count": null,
   "metadata": {},
   "outputs": [],
   "source": [
    "node = ox.nearest_nodes(G, 4.83220, 45.75784)"
   ]
  },
  {
   "cell_type": "markdown",
   "metadata": {},
   "source": [
    "**Question** Existe-il des endroits non accessibles par la route dans Lyon?"
   ]
  },
  {
   "cell_type": "code",
   "execution_count": null,
   "metadata": {},
   "outputs": [],
   "source": []
  },
  {
   "cell_type": "markdown",
   "metadata": {},
   "source": [
    "**Question** On souhaite maintenant relier toutes les intersections entre elles avec un cable de fibre optique. On souhaite minimiser le coût de fibre. Quelle longueur de cable faut-il?"
   ]
  },
  {
   "cell_type": "markdown",
   "metadata": {},
   "source": [
    "**Question** Combien d'instruction au minimumum faut-il donner à un visiteur qui souhaite se déplacer entre deux points `from` et `to` de Lyon ?"
   ]
  },
  {
   "cell_type": "code",
   "execution_count": null,
   "metadata": {},
   "outputs": [],
   "source": []
  },
  {
   "cell_type": "markdown",
   "metadata": {},
   "source": [
    "**Question** Afficher le plus court chemin entre deux points `from` et `to` de Lyon de votre choix en utilisant la méthode `ox.plot_graph_route()`"
   ]
  },
  {
   "cell_type": "code",
   "execution_count": null,
   "metadata": {},
   "outputs": [],
   "source": []
  }
 ],
 "metadata": {
  "kernelspec": {
   "display_name": "graphenv",
   "language": "python",
   "name": "python3"
  },
  "language_info": {
   "codemirror_mode": {
    "name": "ipython",
    "version": 3
   },
   "file_extension": ".py",
   "mimetype": "text/x-python",
   "name": "python",
   "nbconvert_exporter": "python",
   "pygments_lexer": "ipython3",
   "version": "3.10.11"
  },
  "orig_nbformat": 4
 },
 "nbformat": 4,
 "nbformat_minor": 2
}
